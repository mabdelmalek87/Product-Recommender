{
 "cells": [
  {
   "cell_type": "code",
   "execution_count": null,
   "id": "49c74d51-8d52-44f6-9fc8-836609811c56",
   "metadata": {},
   "outputs": [],
   "source": [
    "#Project: Product Recommender System with Retailrocket Dataset"
   ]
  },
  {
   "cell_type": "code",
   "execution_count": null,
   "id": "40a772f1-aa31-4d9a-a52f-7609c7665db7",
   "metadata": {},
   "outputs": [],
   "source": [
    "#Step 1: Loadin and Exploring Dataset"
   ]
  },
  {
   "cell_type": "code",
   "execution_count": null,
   "id": "0a7e3550-9255-4e5b-bd80-cff35aaa942b",
   "metadata": {},
   "outputs": [],
   "source": [
    "# Step 2: Show the different event types in the dataset"
   ]
  },
  {
   "cell_type": "code",
   "execution_count": 8,
   "id": "b0664247-c0b7-465f-920a-aaf37d404813",
   "metadata": {},
   "outputs": [
    {
     "data": {
      "text/html": [
       "<div>\n",
       "<style scoped>\n",
       "    .dataframe tbody tr th:only-of-type {\n",
       "        vertical-align: middle;\n",
       "    }\n",
       "\n",
       "    .dataframe tbody tr th {\n",
       "        vertical-align: top;\n",
       "    }\n",
       "\n",
       "    .dataframe thead th {\n",
       "        text-align: right;\n",
       "    }\n",
       "</style>\n",
       "<table border=\"1\" class=\"dataframe\">\n",
       "  <thead>\n",
       "    <tr style=\"text-align: right;\">\n",
       "      <th></th>\n",
       "      <th>timestamp</th>\n",
       "      <th>visitorid</th>\n",
       "      <th>event</th>\n",
       "      <th>itemid</th>\n",
       "      <th>transactionid</th>\n",
       "    </tr>\n",
       "  </thead>\n",
       "  <tbody>\n",
       "    <tr>\n",
       "      <th>0</th>\n",
       "      <td>1433221332117</td>\n",
       "      <td>257597</td>\n",
       "      <td>view</td>\n",
       "      <td>355908</td>\n",
       "      <td>NaN</td>\n",
       "    </tr>\n",
       "    <tr>\n",
       "      <th>1</th>\n",
       "      <td>1433224214164</td>\n",
       "      <td>992329</td>\n",
       "      <td>view</td>\n",
       "      <td>248676</td>\n",
       "      <td>NaN</td>\n",
       "    </tr>\n",
       "    <tr>\n",
       "      <th>2</th>\n",
       "      <td>1433221999827</td>\n",
       "      <td>111016</td>\n",
       "      <td>view</td>\n",
       "      <td>318965</td>\n",
       "      <td>NaN</td>\n",
       "    </tr>\n",
       "    <tr>\n",
       "      <th>3</th>\n",
       "      <td>1433221955914</td>\n",
       "      <td>483717</td>\n",
       "      <td>view</td>\n",
       "      <td>253185</td>\n",
       "      <td>NaN</td>\n",
       "    </tr>\n",
       "    <tr>\n",
       "      <th>4</th>\n",
       "      <td>1433221337106</td>\n",
       "      <td>951259</td>\n",
       "      <td>view</td>\n",
       "      <td>367447</td>\n",
       "      <td>NaN</td>\n",
       "    </tr>\n",
       "  </tbody>\n",
       "</table>\n",
       "</div>"
      ],
      "text/plain": [
       "       timestamp  visitorid event  itemid  transactionid\n",
       "0  1433221332117     257597  view  355908            NaN\n",
       "1  1433224214164     992329  view  248676            NaN\n",
       "2  1433221999827     111016  view  318965            NaN\n",
       "3  1433221955914     483717  view  253185            NaN\n",
       "4  1433221337106     951259  view  367447            NaN"
      ]
     },
     "execution_count": 8,
     "metadata": {},
     "output_type": "execute_result"
    }
   ],
   "source": [
    "import pandas as pd\n",
    "\n",
    "# Load the events.csv dataset\n",
    "events = pd.read_csv('events.csv')\n",
    "\n",
    "# Show the first few rows\n",
    "events.head()\n"
   ]
  },
  {
   "cell_type": "code",
   "execution_count": 14,
   "id": "dc3441e6-6c07-4b00-b304-620ff9d8fd7f",
   "metadata": {},
   "outputs": [],
   "source": [
    "import pandas as pd\n",
    "\n",
    "events = pd.read_csv('events.csv')\n",
    "transactions = events[events['event'] == 'transaction'].copy()\n",
    "transactions.drop_duplicates(subset=['visitorid', 'itemid'], inplace=True)\n",
    "transactions.rename(columns={'visitorid': 'user_id', 'itemid': 'item_id'}, inplace=True)\n",
    "transactions['rating'] = 1\n",
    "transactions = transactions[['user_id', 'item_id', 'rating']]\n"
   ]
  },
  {
   "cell_type": "code",
   "execution_count": 9,
   "id": "fc34e510-3e77-4720-a2b1-677ac7a87d17",
   "metadata": {},
   "outputs": [
    {
     "data": {
      "text/plain": [
       "event\n",
       "view           2664312\n",
       "addtocart        69332\n",
       "transaction      22457\n",
       "Name: count, dtype: int64"
      ]
     },
     "execution_count": 9,
     "metadata": {},
     "output_type": "execute_result"
    }
   ],
   "source": [
    "\n",
    "events['event'].value_counts()\n"
   ]
  },
  {
   "cell_type": "code",
   "execution_count": null,
   "id": "a9dcad80-6fb4-45ad-ab4c-8762e7607e79",
   "metadata": {},
   "outputs": [],
   "source": [
    "# Step 3: Prepare the Data for Recommender Model"
   ]
  },
  {
   "cell_type": "code",
   "execution_count": 15,
   "id": "dbaa14d9-0917-4342-bc51-0387bd231173",
   "metadata": {},
   "outputs": [
    {
     "data": {
      "text/html": [
       "<div>\n",
       "<style scoped>\n",
       "    .dataframe tbody tr th:only-of-type {\n",
       "        vertical-align: middle;\n",
       "    }\n",
       "\n",
       "    .dataframe tbody tr th {\n",
       "        vertical-align: top;\n",
       "    }\n",
       "\n",
       "    .dataframe thead th {\n",
       "        text-align: right;\n",
       "    }\n",
       "</style>\n",
       "<table border=\"1\" class=\"dataframe\">\n",
       "  <thead>\n",
       "    <tr style=\"text-align: right;\">\n",
       "      <th></th>\n",
       "      <th>user_id</th>\n",
       "      <th>item_id</th>\n",
       "      <th>rating</th>\n",
       "    </tr>\n",
       "  </thead>\n",
       "  <tbody>\n",
       "    <tr>\n",
       "      <th>130</th>\n",
       "      <td>599528</td>\n",
       "      <td>356475</td>\n",
       "      <td>1</td>\n",
       "    </tr>\n",
       "    <tr>\n",
       "      <th>304</th>\n",
       "      <td>121688</td>\n",
       "      <td>15335</td>\n",
       "      <td>1</td>\n",
       "    </tr>\n",
       "    <tr>\n",
       "      <th>418</th>\n",
       "      <td>552148</td>\n",
       "      <td>81345</td>\n",
       "      <td>1</td>\n",
       "    </tr>\n",
       "    <tr>\n",
       "      <th>814</th>\n",
       "      <td>102019</td>\n",
       "      <td>150318</td>\n",
       "      <td>1</td>\n",
       "    </tr>\n",
       "    <tr>\n",
       "      <th>843</th>\n",
       "      <td>189384</td>\n",
       "      <td>310791</td>\n",
       "      <td>1</td>\n",
       "    </tr>\n",
       "  </tbody>\n",
       "</table>\n",
       "</div>"
      ],
      "text/plain": [
       "     user_id  item_id  rating\n",
       "130   599528   356475       1\n",
       "304   121688    15335       1\n",
       "418   552148    81345       1\n",
       "814   102019   150318       1\n",
       "843   189384   310791       1"
      ]
     },
     "execution_count": 15,
     "metadata": {},
     "output_type": "execute_result"
    }
   ],
   "source": [
    "# Filter to only transaction events\n",
    "transactions = events[events['event'] == 'transaction'].copy()\n",
    "\n",
    "# Drop duplicates (same user buying same item multiple times)\n",
    "transactions.drop_duplicates(subset=['visitorid', 'itemid'], inplace=True)\n",
    "\n",
    "# Rename columns for clarity\n",
    "transactions.rename(columns={\n",
    "    'visitorid': 'user_id',\n",
    "    'itemid': 'item_id'\n",
    "}, inplace=True)\n",
    "\n",
    "# Assign rating = 1 to all transactions (implicit feedback)\n",
    "transactions['rating'] = 1\n",
    "\n",
    "# Keep only the necessary columns\n",
    "transactions = transactions[['user_id', 'item_id', 'rating']]\n",
    "\n",
    "# Display final data\n",
    "transactions.head()\n"
   ]
  },
  {
   "cell_type": "code",
   "execution_count": null,
   "id": "d172d05c-85d8-41bb-89f5-da03b3ff8420",
   "metadata": {},
   "outputs": [],
   "source": [
    "# Step 4: Build and Train the Collaborative Filtering Model"
   ]
  },
  {
   "cell_type": "code",
   "execution_count": 11,
   "id": "9a8f5ff6-8d54-4393-af11-d8ada2b19633",
   "metadata": {},
   "outputs": [
    {
     "name": "stdout",
     "output_type": "stream",
     "text": [
      "RMSE: 0.0331\n",
      "RMSE: 0.033\n"
     ]
    }
   ],
   "source": [
    "from surprise import Dataset, Reader, SVD\n",
    "from surprise.model_selection import train_test_split\n",
    "from surprise import accuracy\n",
    "\n",
    "# Format the data for surprise\n",
    "reader = Reader(rating_scale=(0, 1))\n",
    "data = Dataset.load_from_df(transactions[['user_id', 'item_id', 'rating']], reader)\n",
    "\n",
    "# Split the data\n",
    "trainset, testset = train_test_split(data, test_size=0.2, random_state=42)\n",
    "\n",
    "# Train the model using SVD\n",
    "model = SVD()\n",
    "model.fit(trainset)\n",
    "\n",
    "# Predict on the test set\n",
    "predictions = model.test(testset)\n",
    "\n",
    "# Evaluate with RMSE\n",
    "rmse = accuracy.rmse(predictions)\n",
    "print(f\"RMSE: {rmse:.3f}\")\n"
   ]
  },
  {
   "cell_type": "code",
   "execution_count": 16,
   "id": "b8bbeca9-7dbe-4e15-a731-244f8a20f1c1",
   "metadata": {},
   "outputs": [],
   "source": [
    "# Function to get top N recommendations\n",
    "def get_top_recommendations(user_id, model, transactions_df, n=20):\n",
    "    all_items = transactions_df['item_id'].unique()\n",
    "    bought_items = transactions_df[transactions_df['user_id'] == int(user_id)]['item_id'].tolist()\n",
    "    unseen_items = [str(i) for i in all_items if i not in bought_items]\n",
    "\n",
    "    predictions = []\n",
    "    for item_id in unseen_items[:1000]:  # limit for speed\n",
    "        pred = model.predict(str(user_id), item_id)\n",
    "        predictions.append((item_id, pred.est))\n",
    "\n",
    "    top_n = sorted(predictions, key=lambda x: x[1], reverse=True)[:n]\n",
    "    return top_n\n"
   ]
  },
  {
   "cell_type": "code",
   "execution_count": null,
   "id": "062da2df-35e0-4234-93cb-5561d625a9b9",
   "metadata": {},
   "outputs": [],
   "source": [
    "# Step 5: Generate Recommendations for a Specific User"
   ]
  },
  {
   "cell_type": "code",
   "execution_count": 20,
   "id": "5fd9ea9c-a808-4d60-80da-3f13a486f323",
   "metadata": {},
   "outputs": [],
   "source": [
    "# Choose a target user\n",
    "target_user = str(transactions['user_id'].iloc[0])\n",
    "\n",
    "# Top Picks (based on CF model)\n",
    "top_picks = get_top_recommendations(target_user, model, transactions, n=10)\n",
    "\n",
    "# Recently Viewed (mocked from events log)\n",
    "recently_viewed = events[(events['visitorid'] == int(target_user)) & (events['event'] == 'view')]\n",
    "recently_viewed = recently_viewed.sort_values(by='timestamp', ascending=False)['itemid'].unique()[:5]\n",
    "\n",
    "# Customers Also Bought (co-occurrence logic)\n",
    "user_bought = transactions[transactions['user_id'] == int(target_user)]['item_id']\n",
    "related_users = transactions[transactions['item_id'].isin(user_bought)]['user_id'].unique()\n",
    "related_items = transactions[transactions['user_id'].isin(related_users)]['item_id']\n",
    "also_bought = pd.Series(related_items).value_counts().head(10).index.tolist()\n"
   ]
  },
  {
   "cell_type": "code",
   "execution_count": 18,
   "id": "e8ba0234-e478-49a6-82e8-b09b2fa0453e",
   "metadata": {},
   "outputs": [
    {
     "name": "stdout",
     "output_type": "stream",
     "text": [
      "📦 Top Picks for You (599528):\n",
      "  Product ID: 15335, Predicted Score: 1.00\n",
      "  Product ID: 81345, Predicted Score: 1.00\n",
      "  Product ID: 150318, Predicted Score: 1.00\n",
      "  Product ID: 310791, Predicted Score: 1.00\n",
      "  Product ID: 54058, Predicted Score: 1.00\n",
      "  Product ID: 284871, Predicted Score: 1.00\n",
      "  Product ID: 150100, Predicted Score: 1.00\n",
      "  Product ID: 243566, Predicted Score: 1.00\n",
      "  Product ID: 245400, Predicted Score: 1.00\n",
      "  Product ID: 336832, Predicted Score: 1.00\n",
      "\n",
      "🕵️ Recently Viewed:\n",
      "  Product ID: 64279\n",
      "  Product ID: 356475\n",
      "\n",
      "🛍️ Customers Also Bought:\n",
      "  Product ID: 356475\n",
      "  Product ID: 27926\n",
      "  Product ID: 414755\n",
      "  Product ID: 187649\n",
      "  Product ID: 63543\n",
      "  Product ID: 268883\n",
      "  Product ID: 230842\n",
      "  Product ID: 395849\n",
      "  Product ID: 17478\n",
      "  Product ID: 128990\n"
     ]
    }
   ],
   "source": [
    "print(f\"📦 Top Picks for You ({target_user}):\")\n",
    "for item_id, score in top_picks:\n",
    "    print(f\"  Product ID: {item_id}, Predicted Score: {score:.2f}\")\n",
    "\n",
    "print(f\"\\n🕵️ Recently Viewed:\")\n",
    "for item in recently_viewed:\n",
    "    print(f\"  Product ID: {item}\")\n",
    "\n",
    "print(f\"\\n🛍️ Customers Also Bought:\")\n",
    "for item in also_bought:\n",
    "    print(f\"  Product ID: {item}\")\n"
   ]
  },
  {
   "cell_type": "code",
   "execution_count": 19,
   "id": "9917e90c-7c26-4502-983e-1fc98c8f2d13",
   "metadata": {},
   "outputs": [
    {
     "name": "stdout",
     "output_type": "stream",
     "text": [
      "Top 5 recommendations for user 599528:\n",
      "Product ID: 15335, Predicted Rating: 1.00\n",
      "Product ID: 81345, Predicted Rating: 1.00\n",
      "Product ID: 150318, Predicted Rating: 1.00\n",
      "Product ID: 310791, Predicted Rating: 1.00\n",
      "Product ID: 54058, Predicted Rating: 1.00\n"
     ]
    }
   ],
   "source": [
    "# Pick a user from the dataset\n",
    "target_user = str(transactions['user_id'].iloc[0])\n",
    "\n",
    "# All products\n",
    "all_products = transactions['item_id'].unique()\n",
    "\n",
    "# Products the user already bought\n",
    "bought_products = transactions[transactions['user_id'] == int(target_user)]['item_id'].tolist()\n",
    "\n",
    "# Filter out bought products\n",
    "unseen_products = [str(i) for i in all_products if i not in bought_products]\n",
    "\n",
    "# Predict ratings for unseen products\n",
    "predicted_ratings = []\n",
    "for product in unseen_products[:500]:  # Sample for speed\n",
    "    pred = model.predict(target_user, product)\n",
    "    predicted_ratings.append((product, pred.est))\n",
    "\n",
    "# Top 5 recommended products\n",
    "top_5 = sorted(predicted_ratings, key=lambda x: x[1], reverse=True)[:5]\n",
    "\n",
    "# Show recommendations\n",
    "print(f\"Top 5 recommendations for user {target_user}:\")\n",
    "for item_id, score in top_5:\n",
    "    print(f\"Product ID: {item_id}, Predicted Rating: {score:.2f}\")\n"
   ]
  },
  {
   "cell_type": "code",
   "execution_count": null,
   "id": "d4cf4fcc-26f8-42c1-a7f0-22552f52f102",
   "metadata": {},
   "outputs": [],
   "source": []
  }
 ],
 "metadata": {
  "kernelspec": {
   "display_name": "Python 3 (ipykernel)",
   "language": "python",
   "name": "python3"
  },
  "language_info": {
   "codemirror_mode": {
    "name": "ipython",
    "version": 3
   },
   "file_extension": ".py",
   "mimetype": "text/x-python",
   "name": "python",
   "nbconvert_exporter": "python",
   "pygments_lexer": "ipython3",
   "version": "3.10.10"
  }
 },
 "nbformat": 4,
 "nbformat_minor": 5
}
